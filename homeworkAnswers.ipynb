{
 "cells": [
  {
   "cell_type": "markdown",
   "metadata": {},
   "source": [
    "# Question\n",
    "Chargement des fichiers pour les années 2021, 2022 "
   ]
  },
  {
   "cell_type": "code",
   "execution_count": 1,
   "metadata": {},
   "outputs": [
    {
     "name": "stdout",
     "output_type": "stream",
     "text": [
      "Téléchargement réussi : usagers-2022.csv\n",
      "Téléchargement réussi : vehicules-2022.csv\n",
      "Téléchargement réussi : lieux-2022.csv\n",
      "Téléchargement réussi : caracteristiques-2022.csv\n",
      "Téléchargement réussi : usagers-2021.csv\n",
      "Téléchargement réussi : vehicules-2021.csv\n",
      "Téléchargement réussi : lieux-2021.csv\n",
      "Téléchargement réussi : caracteristiques-2021.csv\n"
     ]
    }
   ],
   "source": [
    "import requests\n",
    "import os\n",
    "\n",
    "# URLs des fichiers CSV pour les années 2021 et 2022\n",
    "urls = {\n",
    "    'usagers-2022.csv': \"https://static.data.gouv.fr/resources/bases-de-donnees-annuelles-des-accidents-corporels-de-la-circulation-routiere-annees-de-2005-a-2021/20231005-094229/usagers-2022.csv\",\n",
    "    'vehicules-2022.csv': \"https://static.data.gouv.fr/resources/bases-de-donnees-annuelles-des-accidents-corporels-de-la-circulation-routiere-annees-de-2005-a-2021/20231005-094147/vehicules-2022.csv\",\n",
    "    'lieux-2022.csv': \"https://static.data.gouv.fr/resources/bases-de-donnees-annuelles-des-accidents-corporels-de-la-circulation-routiere-annees-de-2005-a-2021/20231005-094112/lieux-2022.csv\",\n",
    "    'caracteristiques-2022.csv': \"https://static.data.gouv.fr/resources/bases-de-donnees-annuelles-des-accidents-corporels-de-la-circulation-routiere-annees-de-2005-a-2021/20231005-093927/carcteristiques-2022.csv\",\n",
    "    'usagers-2021.csv': \"https://static.data.gouv.fr/resources/bases-de-donnees-annuelles-des-accidents-corporels-de-la-circulation-routiere-annees-de-2005-a-2022/20231009-140337/usagers-2021.csv\",\n",
    "    'vehicules-2021.csv': \"https://static.data.gouv.fr/resources/bases-de-donnees-annuelles-des-accidents-corporels-de-la-circulation-routiere-annees-de-2005-a-2020/20221024-113925/vehicules-2021.csv\",\n",
    "    'lieux-2021.csv': \"https://static.data.gouv.fr/resources/bases-de-donnees-annuelles-des-accidents-corporels-de-la-circulation-routiere-annees-de-2005-a-2020/20221024-113901/lieux-2021.csv\",\n",
    "    'caracteristiques-2021.csv': \"https://static.data.gouv.fr/resources/bases-de-donnees-annuelles-des-accidents-corporels-de-la-circulation-routiere-annees-de-2005-a-2020/20221024-113743/carcteristiques-2021.csv\"\n",
    "}\n",
    "\n",
    "# Création du répertoire 'data' s'il n'existe pas\n",
    "data_dir = 'data'\n",
    "os.makedirs(data_dir, exist_ok=True)\n",
    "\n",
    "# Téléchargement des fichiers\n",
    "for filename, url in urls.items():\n",
    "    response = requests.get(url)\n",
    "    if response.status_code == 200:\n",
    "        with open(os.path.join(data_dir, filename), 'wb') as f:\n",
    "            f.write(response.content)\n",
    "        print(f\"Téléchargement réussi : {filename}\")\n",
    "    else:\n",
    "        print(f\"Erreur lors du téléchargement de {filename}\")\n"
   ]
  },
  {
   "cell_type": "markdown",
   "metadata": {},
   "source": [
    "# Question Supplémentaire\n",
    "Netoyage du repertoire data après un eventuel telechargement des fichiers .csv"
   ]
  },
  {
   "cell_type": "code",
   "execution_count": 2,
   "metadata": {},
   "outputs": [
    {
     "name": "stdout",
     "output_type": "stream",
     "text": [
      "Fichier caracteristiques-2021.csv supprimé.\n",
      "Fichier usagers-2021.csv supprimé.\n",
      "Fichier caracteristiques-2022.csv supprimé.\n",
      "Fichier vehicules-2021.csv supprimé.\n",
      "Fichier lieux-2022.csv supprimé.\n",
      "Fichier usagers-2022.csv supprimé.\n",
      "Fichier vehicules-2022.csv supprimé.\n",
      "Fichier lieux-2021.csv supprimé.\n"
     ]
    }
   ],
   "source": [
    "import os\n",
    "\n",
    "# Chemin du répertoire 'data'\n",
    "data_dir = 'data'\n",
    "\n",
    "# Vérifier si le répertoire existe\n",
    "if os.path.exists(data_dir):\n",
    "    # Itérer sur tous les fichiers du répertoire\n",
    "    for filename in os.listdir(data_dir):\n",
    "        file_path = os.path.join(data_dir, filename)\n",
    "        # Vérifier si c'est un fichier (et non un sous-répertoire)\n",
    "        if os.path.isfile(file_path):\n",
    "            os.remove(file_path)  # Supprimer le fichier\n",
    "            print(f\"Fichier {filename} supprimé.\")\n",
    "else:\n",
    "    print(f\"Le répertoire {data_dir} n'existe pas.\")\n"
   ]
  },
  {
   "cell_type": "markdown",
   "metadata": {},
   "source": [
    "# Question\n",
    "Création de dataframes correspondants au fichiers des années 2021, 2022 et\n",
    "nettoyage des données"
   ]
  },
  {
   "cell_type": "code",
   "execution_count": null,
   "metadata": {},
   "outputs": [],
   "source": [
    "#Answer\n"
   ]
  },
  {
   "cell_type": "markdown",
   "metadata": {},
   "source": [
    "# Question\n",
    "Réunion des années 2021, 20222"
   ]
  },
  {
   "cell_type": "code",
   "execution_count": null,
   "metadata": {},
   "outputs": [],
   "source": [
    "#Answer \n"
   ]
  },
  {
   "cell_type": "markdown",
   "metadata": {},
   "source": [
    "# Question\n",
    "Résumés numériques"
   ]
  },
  {
   "cell_type": "code",
   "execution_count": null,
   "metadata": {},
   "outputs": [],
   "source": [
    "#Answer \n"
   ]
  },
  {
   "cell_type": "markdown",
   "metadata": {},
   "source": [
    "# Question\n",
    "Visualisation\n",
    "Construisez des objets graphiques propres à visualiser :\n",
    "- Répartition des accidents sur la semaine (jours et heures)\n",
    "- Répartition des accidents sur les mois de l’année"
   ]
  },
  {
   "cell_type": "code",
   "execution_count": null,
   "metadata": {},
   "outputs": [],
   "source": [
    "#Answer \n"
   ]
  },
  {
   "cell_type": "markdown",
   "metadata": {},
   "source": [
    "# Question\n",
    "Profil des usagers"
   ]
  },
  {
   "cell_type": "code",
   "execution_count": null,
   "metadata": {},
   "outputs": [],
   "source": [
    "#Answer \n"
   ]
  },
  {
   "cell_type": "markdown",
   "metadata": {},
   "source": [
    "# Question\n",
    "Accidents impliquant des cyclistes et/ou des piétons"
   ]
  },
  {
   "cell_type": "code",
   "execution_count": null,
   "metadata": {},
   "outputs": [],
   "source": [
    "#Answer \n"
   ]
  },
  {
   "cell_type": "markdown",
   "metadata": {},
   "source": [
    "# Question\n",
    "Usage des types composites"
   ]
  },
  {
   "cell_type": "code",
   "execution_count": null,
   "metadata": {},
   "outputs": [],
   "source": [
    "#Answer \n"
   ]
  },
  {
   "cell_type": "markdown",
   "metadata": {},
   "source": [
    "# Question\n",
    "Sauvegarde au format parquet"
   ]
  },
  {
   "cell_type": "code",
   "execution_count": null,
   "metadata": {},
   "outputs": [],
   "source": [
    "#Answer \n"
   ]
  },
  {
   "cell_type": "markdown",
   "metadata": {},
   "source": [
    "# Question\n",
    "Autres questions"
   ]
  },
  {
   "cell_type": "code",
   "execution_count": null,
   "metadata": {},
   "outputs": [],
   "source": [
    "#Answer \n"
   ]
  }
 ],
 "metadata": {
  "kernelspec": {
   "display_name": "Python 3 (ipykernel)",
   "language": "python",
   "name": "python3"
  },
  "language_info": {
   "codemirror_mode": {
    "name": "ipython",
    "version": 3
   },
   "file_extension": ".py",
   "mimetype": "text/x-python",
   "name": "python",
   "nbconvert_exporter": "python",
   "pygments_lexer": "ipython3",
   "version": "3.10.12"
  }
 },
 "nbformat": 4,
 "nbformat_minor": 4
}
